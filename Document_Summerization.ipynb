{
  "nbformat": 4,
  "nbformat_minor": 0,
  "metadata": {
    "colab": {
      "provenance": [],
      "authorship_tag": "ABX9TyNqtWOyi4C8Cg4pYyPHId0n",
      "include_colab_link": true
    },
    "kernelspec": {
      "name": "python3",
      "display_name": "Python 3"
    },
    "language_info": {
      "name": "python"
    }
  },
  "cells": [
    {
      "cell_type": "markdown",
      "metadata": {
        "id": "view-in-github",
        "colab_type": "text"
      },
      "source": [
        "<a href=\"https://colab.research.google.com/github/BhanuSrihridai/Document-Summarisation/blob/main/Document_Summerization.ipynb\" target=\"_parent\"><img src=\"https://colab.research.google.com/assets/colab-badge.svg\" alt=\"Open In Colab\"/></a>"
      ]
    },
    {
      "cell_type": "code",
      "execution_count": null,
      "metadata": {
        "id": "CCk5f_ADTvCF"
      },
      "outputs": [],
      "source": [
        "import docx\n",
        "from docx import Document\n",
        "import gradio as gr\n",
        "import openai\n",
        "openai.api_key=\"\" # API key from OpenAI account (personal and unique)\n",
        "\n",
        "# A function to translate the text\n",
        "def summerize_text(input_file, source_language, target_language):\n",
        "    # text: Text you want to translate\n",
        "    # source_language: The language from which you want to translate\n",
        "    # target_langauge: The language to which you want to translate\n",
        "    doc=Document(input_file)\n",
        "\n",
        "    text=[]\n",
        "\n",
        "    for para in doc.paragraphs:\n",
        "        # print(para.text)\n",
        "        text.append(para.text)\n",
        "\n",
        "    prompt = f\"Summerize the following {text}\"\n",
        "\n",
        "    summerized = openai.ChatCompletion.create(\n",
        "\n",
        "        model=\"gpt-3.5-turbo\", # ChatGPT model\n",
        "\n",
        "        # The system message helps set the behavior of the assistant.\n",
        "        # Assistant messages store previous assistant responses, but can also be written by you to give examples of desired behavior.\n",
        "        # The user messages provide requests or comments for the assistant to respond to.\n",
        "        messages=[{\"role\": \"system\", \"content\": \"You are a helpful assistant to summerize the text.\"},\n",
        "                  {\"role\": \"assistant\",\"content\":\"Text summerizer\"},\n",
        "                  {\"role\": \"user\", \"content\": prompt}],\n",
        "\n",
        "        # OpenAI models are non-deterministic, meaning that identical inputs can yield different outputs.\n",
        "        # Setting temperature to 0 will make the outputs mostly deterministic, but a small amount of variability may remain.\n",
        "        temperature=0.5,\n",
        "    ) # End of ChatCompletion\n",
        "\n",
        "    summary = summerized.choices[0].message.content.strip()\n",
        "\n",
        "    doc.add_paragraph(summary)\n",
        "    doc.save(r\"C:\\Data Science\\Assignments\\New Microsoft Word Document.docx\") # Location where the file will be saved\n",
        "\n",
        "    return doc\n",
        "\n",
        "iface = gr.Interface(fn=translate_and_localize,inputs=[gr.File(label=\"Upload a DOCX file\")],outputs=gr.File(label=\"Download summerized DOCX\"),\n",
        "    title=\"Demo Script Summerization\",\n",
        "    description=\"Summerize the demo script DOCX file.\",\n",
        ")\n",
        "\n",
        "iface.launch()"
      ]
    }
  ]
}